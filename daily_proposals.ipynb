{
 "cells": [
  {
   "cell_type": "code",
   "execution_count": 15,
   "metadata": {},
   "outputs": [],
   "source": [
    "import requests\n",
    "import csv\n",
    "import json\n",
    "from datetime import datetime\n",
    "from collections import defaultdict"
   ]
  },
  {
   "cell_type": "code",
   "execution_count": 16,
   "metadata": {},
   "outputs": [],
   "source": [
    "url = \"https://hub.snapshot.org/graphql?\"\n",
    "headers = {\n",
    "    \"accept\": \"application/json\",\n",
    "    \"accept-language\": \"vi,en-US;q=0.9,en;q=0.8\",\n",
    "    \"content-type\": \"application/json\",\n",
    "}\n",
    "\n",
    "proposals = []"
   ]
  },
  {
   "cell_type": "code",
   "execution_count": null,
   "metadata": {},
   "outputs": [],
   "source": [
    "from datetime import timedelta, timezone\n",
    "\n",
    "query = \"\"\"\n",
    "query Proposals {\n",
    "  proposals(\n",
    "    first: 1000,\n",
    "    skip: 0,\n",
    "    orderBy: \"created\",\n",
    "    orderDirection: asc, where: {space: \"uniswapgovernance.eth\"}) {\n",
    "    id\n",
    "    created\n",
    "  }\n",
    "}\n",
    "\"\"\"\n",
    "\n",
    "# Prepare the request payload\n",
    "payload = {\n",
    "    \"query\": query,\n",
    "    \"variables\": None,\n",
    "    \"operationName\": \"Proposals\",\n",
    "}\n",
    "\n",
    "response = requests.post(url, headers=headers, json=payload)\n",
    "\n",
    "print(response.json())\n",
    "\n",
    "if response.status_code == 200:\n",
    "    data = response.json()\n",
    "    fetched_proposals = data.get(\"data\", {}).get(\"proposals\", [])\n",
    "    daily_counts = defaultdict(int)\n",
    "    for proposal in fetched_proposals:\n",
    "        date = datetime.fromtimestamp(proposal[\"created\"], tz=timezone.utc).strftime('%Y-%m-%d')\n",
    "        daily_counts[date] += 1\n",
    "\n",
    "    dates = [datetime.fromtimestamp(proposal[\"created\"], tz=timezone.utc).date() for proposal in fetched_proposals]\n",
    "    start_date = min(dates)\n",
    "    end_date = max(dates)\n",
    "\n",
    "    full_time_series = []\n",
    "    current_date = start_date\n",
    "    while current_date <= end_date:\n",
    "        date_str = current_date.strftime('%Y-%m-%d')\n",
    "        count = daily_counts.get(date_str, 0)\n",
    "        full_time_series.append((date_str, count))\n",
    "        current_date += timedelta(days=1)\n",
    "\n",
    "    output_file = \"mantle_proposals_time_series.csv\"\n",
    "    with open(output_file, mode=\"w\", newline=\"\") as file:\n",
    "        writer = csv.writer(file)\n",
    "        writer.writerow([\"Date\", \"Proposal Count\"])  # Write header\n",
    "        writer.writerows(full_time_series)\n",
    "else:\n",
    "    print(f\"Request failed with status code {response.status_code}: {response.text}\")"
   ]
  },
  {
   "cell_type": "code",
   "execution_count": null,
   "metadata": {},
   "outputs": [],
   "source": []
  }
 ],
 "metadata": {
  "kernelspec": {
   "display_name": "Python 3",
   "language": "python",
   "name": "python3"
  },
  "language_info": {
   "codemirror_mode": {
    "name": "ipython",
    "version": 3
   },
   "file_extension": ".py",
   "mimetype": "text/x-python",
   "name": "python",
   "nbconvert_exporter": "python",
   "pygments_lexer": "ipython3",
   "version": "3.12.3"
  }
 },
 "nbformat": 4,
 "nbformat_minor": 2
}
